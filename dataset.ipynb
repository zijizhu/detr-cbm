{
 "cells": [
  {
   "cell_type": "code",
   "execution_count": 223,
   "metadata": {},
   "outputs": [],
   "source": [
    "import os\n",
    "import clip\n",
    "import torch\n",
    "from PIL import Image\n",
    "import matplotlib.pyplot as plt\n",
    "from pycocotools.coco import COCO\n",
    "from torch.utils.data import Dataset, DataLoader\n",
    "import torchvision.transforms as T"
   ]
  },
  {
   "cell_type": "code",
   "execution_count": 186,
   "metadata": {},
   "outputs": [],
   "source": [
    "clip_model, clip_preprocess = clip.load('RN50', device='cpu')"
   ]
  },
  {
   "cell_type": "code",
   "execution_count": 235,
   "metadata": {},
   "outputs": [],
   "source": [
    "class Detr2ClipDataset(Dataset):\n",
    "    def __init__(self, data_dir, coco_dir, split='train', img_transforms=None) -> None:\n",
    "        super().__init__()\n",
    "        self.train_data = []\n",
    "        if split == 'train':\n",
    "            coco_ann_dir = os.path.join(coco_dir, 'annotations', 'instances_train2017.json')\n",
    "            for i in range(1, 60):\n",
    "                train_part_i = torch.load(os.path.join(data_dir, f'train_part{i}.pth'))\n",
    "                self.train_data += train_part_i\n",
    "            self.img_dir = os.path.join(coco_dir, 'train2017')\n",
    "        elif split == 'val':\n",
    "            coco_ann_dir = os.path.join(coco_dir, 'annotations', 'instances_val2017.json')\n",
    "            self.train_data += torch.load(os.path.join(data_dir, f'val.pth'))\n",
    "            self.img_dir = os.path.join(coco_dir, 'val2017')\n",
    "        else:\n",
    "            raise NotImplementedError\n",
    "        \n",
    "        # Filter out samples with no data (images with no large enough objects)\n",
    "        self.train_data = [sample for sample in self.train_data if sample['detr_features'].size(0) > 0]\n",
    "\n",
    "        self.coco = COCO(coco_ann_dir)\n",
    "\n",
    "        self.img_transforms = img_transforms\n",
    "    \n",
    "    def __len__(self):\n",
    "        return len(self.train_data)\n",
    "    \n",
    "    def __getitem__(self, idx):\n",
    "        sample = self.train_data[idx]\n",
    "        img_id =sample['img_id']\n",
    "        img_fn = self.coco.imgs[img_id]['file_name']\n",
    "        img = Image.open(os.path.join(self.img_dir, img_fn)).convert('RGB')\n",
    "        all_cropped_imgs = []\n",
    "        for box in sample['crop_boxes'].tolist():\n",
    "            cropped = img.crop(box)\n",
    "            cropped_transformed = self.img_transforms(cropped)\n",
    "            all_cropped_imgs.append(cropped_transformed)\n",
    "        \n",
    "        return sample['detr_features'], torch.stack(all_cropped_imgs)\n",
    "\n",
    "\n",
    "def collate_fn(batch):\n",
    "    batch_detr_features = []\n",
    "    batch_clip_imgs = []\n",
    "    for detr_feat, img in batch:\n",
    "        batch_detr_features.append(detr_feat)\n",
    "        batch_clip_imgs.append(img)\n",
    "    return torch.cat(batch_detr_features), torch.cat(batch_clip_imgs)"
   ]
  },
  {
   "cell_type": "code",
   "execution_count": 236,
   "metadata": {},
   "outputs": [
    {
     "name": "stdout",
     "output_type": "stream",
     "text": [
      "loading annotations into memory...\n",
      "Done (t=9.26s)\n",
      "creating index...\n",
      "index created!\n"
     ]
    }
   ],
   "source": [
    "dataset = Detr2ClipDataset('data', 'coco', split='train', img_transforms=clip_preprocess)"
   ]
  },
  {
   "cell_type": "code",
   "execution_count": 238,
   "metadata": {},
   "outputs": [],
   "source": [
    "dataloader = DataLoader(dataset, batch_size=8, collate_fn=collate_fn)"
   ]
  },
  {
   "cell_type": "code",
   "execution_count": 249,
   "metadata": {},
   "outputs": [],
   "source": [
    "dataloader_iter = iter(dataloader)"
   ]
  },
  {
   "cell_type": "code",
   "execution_count": 284,
   "metadata": {},
   "outputs": [
    {
     "data": {
      "text/plain": [
       "(torch.Size([23, 256]), torch.Size([23, 3, 224, 224]))"
      ]
     },
     "execution_count": 284,
     "metadata": {},
     "output_type": "execute_result"
    }
   ],
   "source": [
    "detr_feat, imgs = next(dataloader_iter)\n",
    "\n",
    "detr_feat.size(), imgs.size()"
   ]
  },
  {
   "cell_type": "code",
   "execution_count": 285,
   "metadata": {},
   "outputs": [
    {
     "data": {
      "text/plain": [
       "['RN50',\n",
       " 'RN101',\n",
       " 'RN50x4',\n",
       " 'RN50x16',\n",
       " 'RN50x64',\n",
       " 'ViT-B/32',\n",
       " 'ViT-B/16',\n",
       " 'ViT-L/14',\n",
       " 'ViT-L/14@336px']"
      ]
     },
     "execution_count": 285,
     "metadata": {},
     "output_type": "execute_result"
    }
   ],
   "source": [
    "clip.available_models()"
   ]
  },
  {
   "cell_type": "code",
   "execution_count": null,
   "metadata": {},
   "outputs": [],
   "source": []
  }
 ],
 "metadata": {
  "kernelspec": {
   "display_name": "logichoi",
   "language": "python",
   "name": "python3"
  },
  "language_info": {
   "codemirror_mode": {
    "name": "ipython",
    "version": 3
   },
   "file_extension": ".py",
   "mimetype": "text/x-python",
   "name": "python",
   "nbconvert_exporter": "python",
   "pygments_lexer": "ipython3",
   "version": "3.11.7"
  }
 },
 "nbformat": 4,
 "nbformat_minor": 2
}
